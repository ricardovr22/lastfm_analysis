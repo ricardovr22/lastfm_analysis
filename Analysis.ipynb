{
 "cells": [
  {
   "cell_type": "markdown",
   "id": "fce718b6-2ebc-4444-a9b4-80bbd4483568",
   "metadata": {},
   "source": [
    "# Lastfm top interactive dashboard"
   ]
  },
  {
   "cell_type": "markdown",
   "id": "57dff4a6-1ce9-4d76-92a9-a8438d8bfd54",
   "metadata": {},
   "source": [
    "## Ricardo Vargas (September 2023)"
   ]
  },
  {
   "cell_type": "markdown",
   "id": "1efa5b3e-adc3-4bae-b26d-9dd7292c1821",
   "metadata": {
    "jp-MarkdownHeadingCollapsed": true,
    "tags": []
   },
   "source": [
    "### Import libraries"
   ]
  },
  {
   "cell_type": "code",
   "execution_count": 1,
   "id": "19d2fc25-ff50-4ef2-ae9f-e3fd93491a89",
   "metadata": {
    "tags": []
   },
   "outputs": [],
   "source": [
    "import pandas as pd\n",
    "import plotly.express as px\n",
    "import ipywidgets as widgets\n",
    "from IPython.display import display"
   ]
  },
  {
   "cell_type": "markdown",
   "id": "49ff17f1-e673-4906-b315-2e23e90ad033",
   "metadata": {
    "tags": []
   },
   "source": [
    "### Load the CSV file"
   ]
  },
  {
   "cell_type": "code",
   "execution_count": 2,
   "id": "8f777d60-18bf-4508-b611-602ca4f0ee1b",
   "metadata": {
    "tags": []
   },
   "outputs": [],
   "source": [
    "data = pd.read_csv(\"reduce_data.csv\")"
   ]
  },
  {
   "cell_type": "markdown",
   "id": "fe0889f9-2288-441e-82e1-c6a2b2e04f0b",
   "metadata": {
    "jp-MarkdownHeadingCollapsed": true,
    "tags": []
   },
   "source": [
    "### Extract year and month"
   ]
  },
  {
   "cell_type": "code",
   "execution_count": 3,
   "id": "c8fb74b8-d987-4dce-b0b6-07a22df81ac8",
   "metadata": {
    "tags": []
   },
   "outputs": [],
   "source": [
    "# Convert the 'utc_time' column to datetime format\n",
    "data['utc_time'] = pd.to_datetime(data['utc_time'], format='%d %b %Y, %H:%M')\n",
    "\n",
    "# Extract year and month from the 'utc_time' column\n",
    "data['year'] = data['utc_time'].dt.year\n",
    "data['month'] = data['utc_time'].dt.month"
   ]
  },
  {
   "cell_type": "markdown",
   "id": "8d2c0ee8-4e9b-4e26-8e24-c11d2884fd06",
   "metadata": {
    "jp-MarkdownHeadingCollapsed": true,
    "tags": []
   },
   "source": [
    "### Make the selection widget"
   ]
  },
  {
   "cell_type": "code",
   "execution_count": 4,
   "id": "ac9d9a85-1d1b-4d69-ba79-72b1a8484016",
   "metadata": {
    "tags": []
   },
   "outputs": [],
   "source": [
    "# Widgets for selecting year and month range\n",
    "start_year = widgets.IntSlider(min=data['year'].min(), max=data['year'].max(), value=data['year'].min(), description='Start Year')\n",
    "end_year = widgets.IntSlider(min=data['year'].min(), max=data['year'].max(), value=data['year'].max(), description='End Year')\n",
    "start_month = widgets.IntSlider(min=1, max=12, value=1, description='Start Month')\n",
    "end_month = widgets.IntSlider(min=1, max=12, value=12, description='End Month')"
   ]
  },
  {
   "cell_type": "markdown",
   "id": "c5ffe97a-24a1-4afa-aac4-4b0defa8b986",
   "metadata": {
    "jp-MarkdownHeadingCollapsed": true,
    "tags": []
   },
   "source": [
    "### Filtering data and graphs "
   ]
  },
  {
   "cell_type": "code",
   "execution_count": 5,
   "id": "52e88f9d-ddf9-44bf-9983-f8a8616d18bb",
   "metadata": {
    "tags": []
   },
   "outputs": [],
   "source": [
    "# Display function for the charts\n",
    "def display_charts(start_y, end_y, start_m, end_m):\n",
    "    # Filter data\n",
    "    filtered_data = data[(data['year'] >= start_y) & (data['year'] <= end_y) & \n",
    "                         (data['month'] >= start_m) & (data['month'] <= end_m)]\n",
    "    \n",
    "    # Top Artists Chart\n",
    "    top_artists = filtered_data['artist'].value_counts().head(20).reset_index()\n",
    "    top_artists.columns = ['Artist', 'Count']\n",
    "    fig1 = px.bar(top_artists, x='Artist', y='Count', title='Top 20 Most Listened Artists')\n",
    "    fig1.show()\n",
    "    \n",
    "    # Top Albums Chart\n",
    "    top_albums = filtered_data.groupby(['artist', 'album']).size().reset_index(name='Count')\n",
    "    top_albums = top_albums.sort_values(by='Count', ascending=False).head(20)\n",
    "\n",
    "    # Define the explicit order for the x-axis based on the album names in descending order of count\n",
    "    album_order = top_albums['album'].tolist()\n",
    "\n",
    "    fig2 = px.bar(top_albums, x='album', y='Count', color='artist',\n",
    "                  title='Top 20 Most Listened Albums', labels={'album': 'Album', 'Count': 'Count'},\n",
    "                  category_orders={\"album\": album_order})\n",
    "    fig2.show()\n",
    "\n",
    "\n",
    "    # Top Tracks Chart\n",
    "    top_tracks = filtered_data.groupby(['artist', 'album', 'track']).size().reset_index(name='Count')\n",
    "    top_tracks = top_tracks.sort_values(by='Count', ascending=False)\n",
    "    top_tracks = top_tracks.head(20)\n",
    "\n",
    "    # Define the explicit order for the x-axis based on the track names in descending order of count\n",
    "    track_order = top_tracks['track'].tolist()\n",
    "\n",
    "    fig3 = px.bar(top_tracks, x='track', y='Count', color='artist',\n",
    "                  title='Top 20 Most Listened Tracks', labels={'track': 'Track', 'Count': 'Count'},\n",
    "                  category_orders={\"track\": track_order})\n",
    "    fig3.show()\n",
    "\n",
    "\n",
    "\n",
    "    "
   ]
  },
  {
   "cell_type": "markdown",
   "id": "4566a384-a4c2-4ba3-b6df-a51a1755713f",
   "metadata": {
    "tags": []
   },
   "source": [
    "### Interact widgets"
   ]
  },
  {
   "cell_type": "code",
   "execution_count": 6,
   "id": "140fd83c-896b-4aef-8bc0-1509fce07430",
   "metadata": {
    "tags": []
   },
   "outputs": [
    {
     "data": {
      "application/vnd.jupyter.widget-view+json": {
       "model_id": "09c7b0022f1d440ba13233af07ea15b6",
       "version_major": 2,
       "version_minor": 0
      },
      "text/plain": [
       "interactive(children=(IntSlider(value=2007, description='Start Year', max=2023, min=2007), IntSlider(value=202…"
      ]
     },
     "metadata": {},
     "output_type": "display_data"
    },
    {
     "data": {
      "text/plain": [
       "<function __main__.display_charts(start_y, end_y, start_m, end_m)>"
      ]
     },
     "execution_count": 6,
     "metadata": {},
     "output_type": "execute_result"
    }
   ],
   "source": [
    "widgets.interact(display_charts,\n",
    "                 start_y=start_year,\n",
    "                 end_y=end_year,\n",
    "                 start_m=start_month,\n",
    "                 end_m=end_month)"
   ]
  },
  {
   "cell_type": "code",
   "execution_count": null,
   "id": "2baed46d-2a3a-40cb-963c-58b791f58368",
   "metadata": {},
   "outputs": [],
   "source": []
  }
 ],
 "metadata": {
  "kernelspec": {
   "display_name": "Python 3 (ipykernel)",
   "language": "python",
   "name": "python3"
  },
  "language_info": {
   "codemirror_mode": {
    "name": "ipython",
    "version": 3
   },
   "file_extension": ".py",
   "mimetype": "text/x-python",
   "name": "python",
   "nbconvert_exporter": "python",
   "pygments_lexer": "ipython3",
   "version": "3.11.4"
  }
 },
 "nbformat": 4,
 "nbformat_minor": 5
}
