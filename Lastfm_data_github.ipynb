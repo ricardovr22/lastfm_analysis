{
 "cells": [
  {
   "cell_type": "markdown",
   "id": "fce718b6-2ebc-4444-a9b4-80bbd4483568",
   "metadata": {},
   "source": [
    "# Lastfm top interactive dashboard"
   ]
  },
  {
   "cell_type": "markdown",
   "id": "57dff4a6-1ce9-4d76-92a9-a8438d8bfd54",
   "metadata": {},
   "source": [
    "## Ricardo Vargas (September 2023)"
   ]
  },
  {
   "cell_type": "markdown",
   "id": "1efa5b3e-adc3-4bae-b26d-9dd7292c1821",
   "metadata": {},
   "source": [
    "### Import libraries"
   ]
  },
  {
   "cell_type": "code",
   "execution_count": 1,
   "id": "19d2fc25-ff50-4ef2-ae9f-e3fd93491a89",
   "metadata": {
    "tags": []
   },
   "outputs": [],
   "source": [
    "import pandas as pd\n",
    "import plotly.express as px\n",
    "import ipywidgets as widgets\n",
    "from IPython.display import display"
   ]
  },
  {
   "cell_type": "markdown",
   "id": "49ff17f1-e673-4906-b315-2e23e90ad033",
   "metadata": {},
   "source": [
    "### Load the CSV file"
   ]
  },
  {
   "cell_type": "code",
   "execution_count": 2,
   "id": "8f777d60-18bf-4508-b611-602ca4f0ee1b",
   "metadata": {
    "tags": []
   },
   "outputs": [
    {
     "data": {
      "text/html": [
       "<div>\n",
       "<style scoped>\n",
       "    .dataframe tbody tr th:only-of-type {\n",
       "        vertical-align: middle;\n",
       "    }\n",
       "\n",
       "    .dataframe tbody tr th {\n",
       "        vertical-align: top;\n",
       "    }\n",
       "\n",
       "    .dataframe thead th {\n",
       "        text-align: right;\n",
       "    }\n",
       "</style>\n",
       "<table border=\"1\" class=\"dataframe\">\n",
       "  <thead>\n",
       "    <tr style=\"text-align: right;\">\n",
       "      <th></th>\n",
       "      <th>uts</th>\n",
       "      <th>utc_time</th>\n",
       "      <th>artist</th>\n",
       "      <th>artist_mbid</th>\n",
       "      <th>album</th>\n",
       "      <th>album_mbid</th>\n",
       "      <th>track</th>\n",
       "      <th>track_mbid</th>\n",
       "    </tr>\n",
       "  </thead>\n",
       "  <tbody>\n",
       "    <tr>\n",
       "      <th>0</th>\n",
       "      <td>1694139763</td>\n",
       "      <td>08 Sep 2023, 02:22</td>\n",
       "      <td>Sebadoh</td>\n",
       "      <td>d98c8149-0c01-4151-93e1-48fdc3d5027f</td>\n",
       "      <td>Bubble and Scrape</td>\n",
       "      <td>4cbb2d77-c4bd-4c4d-84c0-93c37246e755</td>\n",
       "      <td>Soul and Fire</td>\n",
       "      <td>330ff1a3-6284-3bf9-8815-3ae62904e5ec</td>\n",
       "    </tr>\n",
       "    <tr>\n",
       "      <th>1</th>\n",
       "      <td>1694045592</td>\n",
       "      <td>07 Sep 2023, 00:13</td>\n",
       "      <td>boygenius</td>\n",
       "      <td>3ceeddbd-fba5-4bdb-99f7-2d028ed5afda</td>\n",
       "      <td>the record</td>\n",
       "      <td>b949ab39-bf54-4a99-aab0-dacc7d3e349a</td>\n",
       "      <td>Not Strong Enough</td>\n",
       "      <td>58389d98-bfc9-4956-9dc2-4a692525958b</td>\n",
       "    </tr>\n",
       "    <tr>\n",
       "      <th>2</th>\n",
       "      <td>1693842097</td>\n",
       "      <td>04 Sep 2023, 15:41</td>\n",
       "      <td>R.E.M.</td>\n",
       "      <td>ea4dfa26-f633-4da6-a52a-f49ea4897b58</td>\n",
       "      <td>Lifes Rich Pageant</td>\n",
       "      <td>1249abaf-29b6-48e2-9095-b64f7b15e200</td>\n",
       "      <td>Hyena</td>\n",
       "      <td>a0f31742-c370-4fa6-a546-f88a91396bce</td>\n",
       "    </tr>\n",
       "    <tr>\n",
       "      <th>3</th>\n",
       "      <td>1693841613</td>\n",
       "      <td>04 Sep 2023, 15:33</td>\n",
       "      <td>R.E.M.</td>\n",
       "      <td>ea4dfa26-f633-4da6-a52a-f49ea4897b58</td>\n",
       "      <td>Lifes Rich Pageant</td>\n",
       "      <td>1249abaf-29b6-48e2-9095-b64f7b15e200</td>\n",
       "      <td>Cuyahoga</td>\n",
       "      <td>024f5992-9309-3793-9e5e-a857d6b7cd13</td>\n",
       "    </tr>\n",
       "    <tr>\n",
       "      <th>4</th>\n",
       "      <td>1693838243</td>\n",
       "      <td>04 Sep 2023, 14:37</td>\n",
       "      <td>R.E.M.</td>\n",
       "      <td>ea4dfa26-f633-4da6-a52a-f49ea4897b58</td>\n",
       "      <td>Lifes Rich Pageant</td>\n",
       "      <td>1249abaf-29b6-48e2-9095-b64f7b15e200</td>\n",
       "      <td>These Days</td>\n",
       "      <td>7602ce11-4797-41f6-afd3-dbd3c7820622</td>\n",
       "    </tr>\n",
       "  </tbody>\n",
       "</table>\n",
       "</div>"
      ],
      "text/plain": [
       "          uts            utc_time     artist  \\\n",
       "0  1694139763  08 Sep 2023, 02:22    Sebadoh   \n",
       "1  1694045592  07 Sep 2023, 00:13  boygenius   \n",
       "2  1693842097  04 Sep 2023, 15:41     R.E.M.   \n",
       "3  1693841613  04 Sep 2023, 15:33     R.E.M.   \n",
       "4  1693838243  04 Sep 2023, 14:37     R.E.M.   \n",
       "\n",
       "                            artist_mbid               album  \\\n",
       "0  d98c8149-0c01-4151-93e1-48fdc3d5027f   Bubble and Scrape   \n",
       "1  3ceeddbd-fba5-4bdb-99f7-2d028ed5afda          the record   \n",
       "2  ea4dfa26-f633-4da6-a52a-f49ea4897b58  Lifes Rich Pageant   \n",
       "3  ea4dfa26-f633-4da6-a52a-f49ea4897b58  Lifes Rich Pageant   \n",
       "4  ea4dfa26-f633-4da6-a52a-f49ea4897b58  Lifes Rich Pageant   \n",
       "\n",
       "                             album_mbid              track  \\\n",
       "0  4cbb2d77-c4bd-4c4d-84c0-93c37246e755      Soul and Fire   \n",
       "1  b949ab39-bf54-4a99-aab0-dacc7d3e349a  Not Strong Enough   \n",
       "2  1249abaf-29b6-48e2-9095-b64f7b15e200              Hyena   \n",
       "3  1249abaf-29b6-48e2-9095-b64f7b15e200           Cuyahoga   \n",
       "4  1249abaf-29b6-48e2-9095-b64f7b15e200         These Days   \n",
       "\n",
       "                             track_mbid  \n",
       "0  330ff1a3-6284-3bf9-8815-3ae62904e5ec  \n",
       "1  58389d98-bfc9-4956-9dc2-4a692525958b  \n",
       "2  a0f31742-c370-4fa6-a546-f88a91396bce  \n",
       "3  024f5992-9309-3793-9e5e-a857d6b7cd13  \n",
       "4  7602ce11-4797-41f6-afd3-dbd3c7820622  "
      ]
     },
     "execution_count": 2,
     "metadata": {},
     "output_type": "execute_result"
    }
   ],
   "source": [
    "data = pd.read_csv(\"/Users/ricardo/Downloads/reduce_data.csv\")\n",
    "data.head()"
   ]
  },
  {
   "cell_type": "markdown",
   "id": "fe0889f9-2288-441e-82e1-c6a2b2e04f0b",
   "metadata": {},
   "source": [
    "### Extract year and month"
   ]
  },
  {
   "cell_type": "code",
   "execution_count": 3,
   "id": "c8fb74b8-d987-4dce-b0b6-07a22df81ac8",
   "metadata": {
    "tags": []
   },
   "outputs": [
    {
     "data": {
      "text/html": [
       "<div>\n",
       "<style scoped>\n",
       "    .dataframe tbody tr th:only-of-type {\n",
       "        vertical-align: middle;\n",
       "    }\n",
       "\n",
       "    .dataframe tbody tr th {\n",
       "        vertical-align: top;\n",
       "    }\n",
       "\n",
       "    .dataframe thead th {\n",
       "        text-align: right;\n",
       "    }\n",
       "</style>\n",
       "<table border=\"1\" class=\"dataframe\">\n",
       "  <thead>\n",
       "    <tr style=\"text-align: right;\">\n",
       "      <th></th>\n",
       "      <th>uts</th>\n",
       "      <th>utc_time</th>\n",
       "      <th>artist</th>\n",
       "      <th>artist_mbid</th>\n",
       "      <th>album</th>\n",
       "      <th>album_mbid</th>\n",
       "      <th>track</th>\n",
       "      <th>track_mbid</th>\n",
       "      <th>year</th>\n",
       "      <th>month</th>\n",
       "    </tr>\n",
       "  </thead>\n",
       "  <tbody>\n",
       "    <tr>\n",
       "      <th>0</th>\n",
       "      <td>1694139763</td>\n",
       "      <td>2023-09-08 02:22:00</td>\n",
       "      <td>Sebadoh</td>\n",
       "      <td>d98c8149-0c01-4151-93e1-48fdc3d5027f</td>\n",
       "      <td>Bubble and Scrape</td>\n",
       "      <td>4cbb2d77-c4bd-4c4d-84c0-93c37246e755</td>\n",
       "      <td>Soul and Fire</td>\n",
       "      <td>330ff1a3-6284-3bf9-8815-3ae62904e5ec</td>\n",
       "      <td>2023</td>\n",
       "      <td>9</td>\n",
       "    </tr>\n",
       "    <tr>\n",
       "      <th>1</th>\n",
       "      <td>1694045592</td>\n",
       "      <td>2023-09-07 00:13:00</td>\n",
       "      <td>boygenius</td>\n",
       "      <td>3ceeddbd-fba5-4bdb-99f7-2d028ed5afda</td>\n",
       "      <td>the record</td>\n",
       "      <td>b949ab39-bf54-4a99-aab0-dacc7d3e349a</td>\n",
       "      <td>Not Strong Enough</td>\n",
       "      <td>58389d98-bfc9-4956-9dc2-4a692525958b</td>\n",
       "      <td>2023</td>\n",
       "      <td>9</td>\n",
       "    </tr>\n",
       "    <tr>\n",
       "      <th>2</th>\n",
       "      <td>1693842097</td>\n",
       "      <td>2023-09-04 15:41:00</td>\n",
       "      <td>R.E.M.</td>\n",
       "      <td>ea4dfa26-f633-4da6-a52a-f49ea4897b58</td>\n",
       "      <td>Lifes Rich Pageant</td>\n",
       "      <td>1249abaf-29b6-48e2-9095-b64f7b15e200</td>\n",
       "      <td>Hyena</td>\n",
       "      <td>a0f31742-c370-4fa6-a546-f88a91396bce</td>\n",
       "      <td>2023</td>\n",
       "      <td>9</td>\n",
       "    </tr>\n",
       "    <tr>\n",
       "      <th>3</th>\n",
       "      <td>1693841613</td>\n",
       "      <td>2023-09-04 15:33:00</td>\n",
       "      <td>R.E.M.</td>\n",
       "      <td>ea4dfa26-f633-4da6-a52a-f49ea4897b58</td>\n",
       "      <td>Lifes Rich Pageant</td>\n",
       "      <td>1249abaf-29b6-48e2-9095-b64f7b15e200</td>\n",
       "      <td>Cuyahoga</td>\n",
       "      <td>024f5992-9309-3793-9e5e-a857d6b7cd13</td>\n",
       "      <td>2023</td>\n",
       "      <td>9</td>\n",
       "    </tr>\n",
       "    <tr>\n",
       "      <th>4</th>\n",
       "      <td>1693838243</td>\n",
       "      <td>2023-09-04 14:37:00</td>\n",
       "      <td>R.E.M.</td>\n",
       "      <td>ea4dfa26-f633-4da6-a52a-f49ea4897b58</td>\n",
       "      <td>Lifes Rich Pageant</td>\n",
       "      <td>1249abaf-29b6-48e2-9095-b64f7b15e200</td>\n",
       "      <td>These Days</td>\n",
       "      <td>7602ce11-4797-41f6-afd3-dbd3c7820622</td>\n",
       "      <td>2023</td>\n",
       "      <td>9</td>\n",
       "    </tr>\n",
       "  </tbody>\n",
       "</table>\n",
       "</div>"
      ],
      "text/plain": [
       "          uts            utc_time     artist  \\\n",
       "0  1694139763 2023-09-08 02:22:00    Sebadoh   \n",
       "1  1694045592 2023-09-07 00:13:00  boygenius   \n",
       "2  1693842097 2023-09-04 15:41:00     R.E.M.   \n",
       "3  1693841613 2023-09-04 15:33:00     R.E.M.   \n",
       "4  1693838243 2023-09-04 14:37:00     R.E.M.   \n",
       "\n",
       "                            artist_mbid               album  \\\n",
       "0  d98c8149-0c01-4151-93e1-48fdc3d5027f   Bubble and Scrape   \n",
       "1  3ceeddbd-fba5-4bdb-99f7-2d028ed5afda          the record   \n",
       "2  ea4dfa26-f633-4da6-a52a-f49ea4897b58  Lifes Rich Pageant   \n",
       "3  ea4dfa26-f633-4da6-a52a-f49ea4897b58  Lifes Rich Pageant   \n",
       "4  ea4dfa26-f633-4da6-a52a-f49ea4897b58  Lifes Rich Pageant   \n",
       "\n",
       "                             album_mbid              track  \\\n",
       "0  4cbb2d77-c4bd-4c4d-84c0-93c37246e755      Soul and Fire   \n",
       "1  b949ab39-bf54-4a99-aab0-dacc7d3e349a  Not Strong Enough   \n",
       "2  1249abaf-29b6-48e2-9095-b64f7b15e200              Hyena   \n",
       "3  1249abaf-29b6-48e2-9095-b64f7b15e200           Cuyahoga   \n",
       "4  1249abaf-29b6-48e2-9095-b64f7b15e200         These Days   \n",
       "\n",
       "                             track_mbid  year  month  \n",
       "0  330ff1a3-6284-3bf9-8815-3ae62904e5ec  2023      9  \n",
       "1  58389d98-bfc9-4956-9dc2-4a692525958b  2023      9  \n",
       "2  a0f31742-c370-4fa6-a546-f88a91396bce  2023      9  \n",
       "3  024f5992-9309-3793-9e5e-a857d6b7cd13  2023      9  \n",
       "4  7602ce11-4797-41f6-afd3-dbd3c7820622  2023      9  "
      ]
     },
     "execution_count": 3,
     "metadata": {},
     "output_type": "execute_result"
    }
   ],
   "source": [
    "# Convert the 'utc_time' column to datetime format\n",
    "data['utc_time'] = pd.to_datetime(data['utc_time'], format='%d %b %Y, %H:%M')\n",
    "\n",
    "# Extract year and month from the 'utc_time' column\n",
    "data['year'] = data['utc_time'].dt.year\n",
    "data['month'] = data['utc_time'].dt.month\n",
    "data.head()"
   ]
  },
  {
   "cell_type": "markdown",
   "id": "8d2c0ee8-4e9b-4e26-8e24-c11d2884fd06",
   "metadata": {},
   "source": [
    "### Make the selection widget"
   ]
  },
  {
   "cell_type": "code",
   "execution_count": 4,
   "id": "ac9d9a85-1d1b-4d69-ba79-72b1a8484016",
   "metadata": {
    "tags": []
   },
   "outputs": [],
   "source": [
    "# Widgets for selecting year and month range\n",
    "start_year = widgets.IntSlider(min=data['year'].min(), max=data['year'].max(), value=data['year'].min(), description='Start Year')\n",
    "end_year = widgets.IntSlider(min=data['year'].min(), max=data['year'].max(), value=data['year'].max(), description='End Year')\n",
    "start_month = widgets.IntSlider(min=1, max=12, value=1, description='Start Month')\n",
    "end_month = widgets.IntSlider(min=1, max=12, value=12, description='End Month')"
   ]
  },
  {
   "cell_type": "markdown",
   "id": "c5ffe97a-24a1-4afa-aac4-4b0defa8b986",
   "metadata": {},
   "source": [
    "### Filtering data and graphs "
   ]
  },
  {
   "cell_type": "code",
   "execution_count": 17,
   "id": "52e88f9d-ddf9-44bf-9983-f8a8616d18bb",
   "metadata": {
    "tags": []
   },
   "outputs": [],
   "source": [
    "# Display function for the charts\n",
    "def display_charts(start_y, end_y, start_m, end_m):\n",
    "    # Filter data\n",
    "    filtered_data = data[(data['year'] >= start_y) & (data['year'] <= end_y) & \n",
    "                         (data['month'] >= start_m) & (data['month'] <= end_m)]\n",
    "    \n",
    "    # Top Artists Chart\n",
    "    top_artists = filtered_data['artist'].value_counts().head(20).reset_index()\n",
    "    top_artists.columns = ['Artist', 'Count']\n",
    "    fig1 = px.bar(top_artists, x='Artist', y='Count', title='Top 20 Most Listened Artists')\n",
    "    fig1.show()\n",
    "    \n",
    "    # Top Albums Chart\n",
    "    top_albums = filtered_data.groupby(['artist', 'album']).size().reset_index(name='Count')\n",
    "    top_albums = top_albums.sort_values(by='Count', ascending=False).head(20)\n",
    "\n",
    "    # Define the explicit order for the x-axis based on the album names in descending order of count\n",
    "    album_order = top_albums['album'].tolist()\n",
    "\n",
    "    fig2 = px.bar(top_albums, x='album', y='Count', color='artist',\n",
    "                  title='Top 20 Most Listened Albums', labels={'album': 'Album', 'Count': 'Count'},\n",
    "                  category_orders={\"album\": album_order})\n",
    "    fig2.show()\n",
    "\n",
    "\n",
    "    # Top Tracks Chart\n",
    "    top_tracks = filtered_data.groupby(['artist', 'album', 'track']).size().reset_index(name='Count')\n",
    "    top_tracks = top_tracks.sort_values(by='Count', ascending=False)\n",
    "    top_tracks = top_tracks.head(20)\n",
    "\n",
    "    # Define the explicit order for the x-axis based on the track names in descending order of count\n",
    "    track_order = top_tracks['track'].tolist()\n",
    "\n",
    "    fig3 = px.bar(top_tracks, x='track', y='Count', color='artist',\n",
    "                  title='Top 20 Most Listened Tracks', labels={'track': 'Track', 'Count': 'Count'},\n",
    "                  category_orders={\"track\": track_order})\n",
    "    fig3.show()\n",
    "\n",
    "\n",
    "\n",
    "    "
   ]
  },
  {
   "cell_type": "markdown",
   "id": "4566a384-a4c2-4ba3-b6df-a51a1755713f",
   "metadata": {},
   "source": [
    "### Interact widgets"
   ]
  },
  {
   "cell_type": "code",
   "execution_count": 18,
   "id": "140fd83c-896b-4aef-8bc0-1509fce07430",
   "metadata": {
    "tags": []
   },
   "outputs": [
    {
     "data": {
      "application/vnd.jupyter.widget-view+json": {
       "model_id": "c38b2b3f6a7946f8b4c6d0d3aede92d1",
       "version_major": 2,
       "version_minor": 0
      },
      "text/plain": [
       "interactive(children=(IntSlider(value=2021, description='Start Year', max=2023, min=2007), IntSlider(value=202…"
      ]
     },
     "metadata": {},
     "output_type": "display_data"
    },
    {
     "data": {
      "text/plain": [
       "<function __main__.display_charts(start_y, end_y, start_m, end_m)>"
      ]
     },
     "execution_count": 18,
     "metadata": {},
     "output_type": "execute_result"
    }
   ],
   "source": [
    "widgets.interact(display_charts,\n",
    "                 start_y=start_year,\n",
    "                 end_y=end_year,\n",
    "                 start_m=start_month,\n",
    "                 end_m=end_month)"
   ]
  },
  {
   "cell_type": "code",
   "execution_count": null,
   "id": "2baed46d-2a3a-40cb-963c-58b791f58368",
   "metadata": {},
   "outputs": [],
   "source": []
  }
 ],
 "metadata": {
  "kernelspec": {
   "display_name": "Python 3 (ipykernel)",
   "language": "python",
   "name": "python3"
  },
  "language_info": {
   "codemirror_mode": {
    "name": "ipython",
    "version": 3
   },
   "file_extension": ".py",
   "mimetype": "text/x-python",
   "name": "python",
   "nbconvert_exporter": "python",
   "pygments_lexer": "ipython3",
   "version": "3.11.4"
  }
 },
 "nbformat": 4,
 "nbformat_minor": 5
}
